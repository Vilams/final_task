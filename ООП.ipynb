{
 "cells": [
  {
   "cell_type": "code",
   "execution_count": 2,
   "id": "632a8cc0",
   "metadata": {},
   "outputs": [],
   "source": [
    "import time \n",
    "import random\n",
    "class Phone: \n",
    "    programs={} #Список для сохраниния игр \n",
    "    contaks={} #Словарь для контактов\n",
    "    def __init__(self,the_brand, model, CPU ,RAM, battery, display,storage):\n",
    "        self.name = the_brand   #сохраняем переменные для данного класса\n",
    "        self.model = model\n",
    "        self.the_brand = CPU\n",
    "        self.cooler = RAM\n",
    "        self.power_unit = battery\n",
    "        self.GPU = display\n",
    "        self.storage=storage \n",
    "        #ниже вспомогательные переменные данного гласса\n",
    "        self.storage_status = 0 #storage показывает максимальное кол-во места,storage_status показывает текущее заполнение \n",
    "        print(f'Вы купили новый телефон:{self.name}')\n",
    "   \n",
    "\n",
    "    def contaks_adds(self):\n",
    "        number =int(input('Введите номер: '))\n",
    "        name = (input('Введите Имя: '))\n",
    "        Phone.contaks[name] = number\n",
    "        self.storage_status += 0.00003\n",
    "        print(f'Котнакт {name} добавлен' )\n",
    "    \n",
    "    def contaks_del(self):\n",
    "        print(Phone.contaks.keys())\n",
    "        name = input('каакой контакт хотите удалить: ')\n",
    "        del Phone.contaks[name]\n",
    "        self.storage_status -= 0.00003\n",
    "        print(f'Котнакт {name} удален' )\n",
    "    \n",
    "    def call_contakt(self):\n",
    "        print(Phone.contaks.keys())\n",
    "        name = input('Кому звоним: ')\n",
    "        print('вы позвонили', name )\n",
    "    \n",
    "    def Programs(self):\n",
    "        if  self.storage_status < self.storage:\n",
    "            program =input('Название программы: ')\n",
    "            size = random.randint(2,60)\n",
    "            Phone.programs[program] = size\n",
    "            self.storage_status +=size\n",
    "            print(f'Программа {program} установлена' )\n",
    "        else:print('Диск переполнен')\n",
    "            \n",
    "    def Programs_del(self,):\n",
    "        print(Phone.programs.keys())\n",
    "        program = input('Введите програму которую хотите удалить: ')\n",
    "        size=Phone.programs[program]\n",
    "        del Phone.programs[program]\n",
    "        self.storage_status -=size\n",
    "        print(f'Вы удалили: {program}')\n",
    "        \n",
    "    def paly(self):\n",
    "        print(Phone.programs.keys())\n",
    "        program = input('Введите програму которую хотите запустить: ')\n",
    "        print(program, 'Запущена')"
   ]
  },
  {
   "cell_type": "code",
   "execution_count": null,
   "id": "388f3fd1",
   "metadata": {},
   "outputs": [],
   "source": []
  },
  {
   "cell_type": "code",
   "execution_count": 3,
   "id": "91ff4ee0",
   "metadata": {},
   "outputs": [
    {
     "name": "stdout",
     "output_type": "stream",
     "text": [
      "Вы купили новый телефон:Samsung\n"
     ]
    }
   ],
   "source": [
    "My_Phone = Phone ( 'Samsung', \" A71\" , \"Snapdragon 810\", \"8gb\",'5000mh', 'OLED',512)"
   ]
  },
  {
   "cell_type": "code",
   "execution_count": 7,
   "id": "af679565",
   "metadata": {
    "scrolled": false
   },
   "outputs": [
    {
     "name": "stdout",
     "output_type": "stream",
     "text": [
      "Введите номер: 876543\n",
      "Введите Имя: brat\n",
      "Котнакт brat добавлен\n"
     ]
    }
   ],
   "source": [
    "My_Phone.contaks_adds()"
   ]
  },
  {
   "cell_type": "code",
   "execution_count": 8,
   "id": "a1f3f9a3",
   "metadata": {},
   "outputs": [
    {
     "name": "stdout",
     "output_type": "stream",
     "text": [
      "dict_keys(['vfvf', 'papa', 'brat'])\n",
      "каакой контакт хотите удалить: vfvf\n",
      "Котнакт vfvf удален\n"
     ]
    }
   ],
   "source": [
    "My_Phone.contaks_del()"
   ]
  },
  {
   "cell_type": "code",
   "execution_count": 11,
   "id": "e8d5bae6",
   "metadata": {},
   "outputs": [
    {
     "name": "stdout",
     "output_type": "stream",
     "text": [
      "Название программы: vk\n",
      "Программа vk установлена\n"
     ]
    }
   ],
   "source": [
    "My_Phone.Programs()"
   ]
  },
  {
   "cell_type": "code",
   "execution_count": 12,
   "id": "9cf8e468",
   "metadata": {},
   "outputs": [
    {
     "name": "stdout",
     "output_type": "stream",
     "text": [
      "dict_keys(['google', 'telgrem', 'vk'])\n",
      "Введите програму которую хотите удалить: vk\n",
      "Вы удалили: vk\n"
     ]
    }
   ],
   "source": [
    "My_Phone.Programs_del()"
   ]
  },
  {
   "cell_type": "code",
   "execution_count": 13,
   "id": "d6047610",
   "metadata": {},
   "outputs": [
    {
     "name": "stdout",
     "output_type": "stream",
     "text": [
      "dict_keys(['papa', 'brat'])\n",
      "Кому звоним: papa\n",
      "вы позвонили papa\n"
     ]
    }
   ],
   "source": [
    "My_Phone.call_contakt()"
   ]
  },
  {
   "cell_type": "code",
   "execution_count": 15,
   "id": "5b855cfb",
   "metadata": {},
   "outputs": [
    {
     "name": "stdout",
     "output_type": "stream",
     "text": [
      "dict_keys(['google', 'telgrem'])\n",
      "Введите програму которую хотите запустить: google\n",
      "google Запущена\n"
     ]
    }
   ],
   "source": [
    "My_Phone.paly()\n"
   ]
  },
  {
   "cell_type": "code",
   "execution_count": null,
   "id": "ec8c8940",
   "metadata": {},
   "outputs": [],
   "source": []
  },
  {
   "cell_type": "code",
   "execution_count": null,
   "id": "65b6400a",
   "metadata": {},
   "outputs": [],
   "source": []
  },
  {
   "cell_type": "code",
   "execution_count": null,
   "id": "78d29af8",
   "metadata": {},
   "outputs": [],
   "source": []
  },
  {
   "cell_type": "code",
   "execution_count": null,
   "id": "7d8fa2b1",
   "metadata": {},
   "outputs": [],
   "source": []
  },
  {
   "cell_type": "code",
   "execution_count": null,
   "id": "ca6c8983",
   "metadata": {},
   "outputs": [],
   "source": []
  },
  {
   "cell_type": "code",
   "execution_count": null,
   "id": "d769e8bc",
   "metadata": {},
   "outputs": [],
   "source": []
  },
  {
   "cell_type": "code",
   "execution_count": null,
   "id": "d9e53e4a",
   "metadata": {},
   "outputs": [],
   "source": [
    "\n"
   ]
  },
  {
   "cell_type": "code",
   "execution_count": null,
   "id": "126bc4f9",
   "metadata": {},
   "outputs": [],
   "source": []
  }
 ],
 "metadata": {
  "kernelspec": {
   "display_name": "Python 3",
   "language": "python",
   "name": "python3"
  },
  "language_info": {
   "codemirror_mode": {
    "name": "ipython",
    "version": 3
   },
   "file_extension": ".py",
   "mimetype": "text/x-python",
   "name": "python",
   "nbconvert_exporter": "python",
   "pygments_lexer": "ipython3",
   "version": "3.8.8"
  }
 },
 "nbformat": 4,
 "nbformat_minor": 5
}
